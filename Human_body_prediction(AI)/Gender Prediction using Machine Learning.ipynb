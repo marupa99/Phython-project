{
 "cells": [
  {
   "cell_type": "markdown",
   "id": "5845dc02",
   "metadata": {},
   "source": [
    "<h1><center><b>Gender Prediction using Machine Learning</b></center></h1>"
   ]
  },
  {
   "cell_type": "markdown",
   "id": "2c2d44a9",
   "metadata": {},
   "source": [
    "## Import Important Package"
   ]
  },
  {
   "cell_type": "code",
   "execution_count": null,
   "id": "c0959b86",
   "metadata": {},
   "outputs": [
    {
     "name": "stderr",
     "output_type": "stream",
     "text": [
      "Matplotlib is building the font cache; this may take a moment.\n"
     ]
    }
   ],
   "source": [
    "import pandas as pd\n",
    "import numpy as np\n",
    "import matplotlib.pyplot as plt\n",
    "import seaborn as sns\n",
    "import scikitplot as skplt\n",
    "\n",
    "from sklearn.linear_model import LogisticRegression\n",
    "from sklearn.neighbors import KNeighborsClassifier\n",
    "\n",
    "from sklearn.preprocessing import StandardScaler\n",
    "from sklearn.model_selection import train_test_split\n",
    "\n",
    "from sklearn.metrics import classification_report\n",
    "from sklearn.metrics import jaccard_score"
   ]
  },
  {
   "cell_type": "markdown",
   "id": "0ad97603",
   "metadata": {},
   "source": [
    "## Import Dataset"
   ]
  },
  {
   "cell_type": "code",
   "execution_count": 2,
   "id": "f2065834",
   "metadata": {},
   "outputs": [
    {
     "data": {
      "text/html": [
       "<div>\n",
       "<style scoped>\n",
       "    .dataframe tbody tr th:only-of-type {\n",
       "        vertical-align: middle;\n",
       "    }\n",
       "\n",
       "    .dataframe tbody tr th {\n",
       "        vertical-align: top;\n",
       "    }\n",
       "\n",
       "    .dataframe thead th {\n",
       "        text-align: right;\n",
       "    }\n",
       "</style>\n",
       "<table border=\"1\" class=\"dataframe\">\n",
       "  <thead>\n",
       "    <tr style=\"text-align: right;\">\n",
       "      <th></th>\n",
       "      <th>Person</th>\n",
       "      <th>height(in feet)</th>\n",
       "      <th>weight(in lbs)</th>\n",
       "      <th>foot size(in inches)</th>\n",
       "    </tr>\n",
       "  </thead>\n",
       "  <tbody>\n",
       "    <tr>\n",
       "      <th>0</th>\n",
       "      <td>Male</td>\n",
       "      <td>NaN</td>\n",
       "      <td>241.893563</td>\n",
       "      <td>10.0</td>\n",
       "    </tr>\n",
       "    <tr>\n",
       "      <th>1</th>\n",
       "      <td>Male</td>\n",
       "      <td>68.781904</td>\n",
       "      <td>162.310473</td>\n",
       "      <td>12.0</td>\n",
       "    </tr>\n",
       "    <tr>\n",
       "      <th>2</th>\n",
       "      <td>Male</td>\n",
       "      <td>74.110105</td>\n",
       "      <td>212.740856</td>\n",
       "      <td>10.0</td>\n",
       "    </tr>\n",
       "    <tr>\n",
       "      <th>3</th>\n",
       "      <td>Male</td>\n",
       "      <td>71.730978</td>\n",
       "      <td>220.042470</td>\n",
       "      <td>11.0</td>\n",
       "    </tr>\n",
       "    <tr>\n",
       "      <th>4</th>\n",
       "      <td>Male</td>\n",
       "      <td>69.881796</td>\n",
       "      <td>206.349801</td>\n",
       "      <td>10.0</td>\n",
       "    </tr>\n",
       "  </tbody>\n",
       "</table>\n",
       "</div>"
      ],
      "text/plain": [
       "  Person  height(in feet)  weight(in lbs)  foot size(in inches)\n",
       "0   Male              NaN      241.893563                  10.0\n",
       "1   Male        68.781904      162.310473                  12.0\n",
       "2   Male        74.110105      212.740856                  10.0\n",
       "3   Male        71.730978      220.042470                  11.0\n",
       "4   Male        69.881796      206.349801                  10.0"
      ]
     },
     "execution_count": 2,
     "metadata": {},
     "output_type": "execute_result"
    }
   ],
   "source": [
    "df = pd.read_csv('gender_height_weight_foot.csv')\n",
    "df.head()"
   ]
  },
  {
   "cell_type": "code",
   "execution_count": 3,
   "id": "586dccad",
   "metadata": {},
   "outputs": [
    {
     "data": {
      "text/plain": [
       "(10000, 4)"
      ]
     },
     "execution_count": 3,
     "metadata": {},
     "output_type": "execute_result"
    }
   ],
   "source": [
    "df.shape"
   ]
  },
  {
   "cell_type": "code",
   "execution_count": 4,
   "id": "0610e348",
   "metadata": {},
   "outputs": [
    {
     "data": {
      "text/html": [
       "<div>\n",
       "<style scoped>\n",
       "    .dataframe tbody tr th:only-of-type {\n",
       "        vertical-align: middle;\n",
       "    }\n",
       "\n",
       "    .dataframe tbody tr th {\n",
       "        vertical-align: top;\n",
       "    }\n",
       "\n",
       "    .dataframe thead th {\n",
       "        text-align: right;\n",
       "    }\n",
       "</style>\n",
       "<table border=\"1\" class=\"dataframe\">\n",
       "  <thead>\n",
       "    <tr style=\"text-align: right;\">\n",
       "      <th></th>\n",
       "      <th>height(in feet)</th>\n",
       "      <th>weight(in lbs)</th>\n",
       "      <th>foot size(in inches)</th>\n",
       "    </tr>\n",
       "  </thead>\n",
       "  <tbody>\n",
       "    <tr>\n",
       "      <th>count</th>\n",
       "      <td>9930.000000</td>\n",
       "      <td>9916.000000</td>\n",
       "      <td>9305.000000</td>\n",
       "    </tr>\n",
       "    <tr>\n",
       "      <th>mean</th>\n",
       "      <td>66.379861</td>\n",
       "      <td>161.644172</td>\n",
       "      <td>9.160559</td>\n",
       "    </tr>\n",
       "    <tr>\n",
       "      <th>std</th>\n",
       "      <td>3.850525</td>\n",
       "      <td>32.095392</td>\n",
       "      <td>1.871407</td>\n",
       "    </tr>\n",
       "    <tr>\n",
       "      <th>min</th>\n",
       "      <td>54.263133</td>\n",
       "      <td>64.700127</td>\n",
       "      <td>6.000000</td>\n",
       "    </tr>\n",
       "    <tr>\n",
       "      <th>25%</th>\n",
       "      <td>63.522005</td>\n",
       "      <td>135.954077</td>\n",
       "      <td>7.000000</td>\n",
       "    </tr>\n",
       "    <tr>\n",
       "      <th>50%</th>\n",
       "      <td>66.335970</td>\n",
       "      <td>161.647724</td>\n",
       "      <td>10.000000</td>\n",
       "    </tr>\n",
       "    <tr>\n",
       "      <th>75%</th>\n",
       "      <td>69.194942</td>\n",
       "      <td>187.348518</td>\n",
       "      <td>11.000000</td>\n",
       "    </tr>\n",
       "    <tr>\n",
       "      <th>max</th>\n",
       "      <td>78.998742</td>\n",
       "      <td>269.989698</td>\n",
       "      <td>12.000000</td>\n",
       "    </tr>\n",
       "  </tbody>\n",
       "</table>\n",
       "</div>"
      ],
      "text/plain": [
       "       height(in feet)  weight(in lbs)  foot size(in inches)\n",
       "count      9930.000000     9916.000000           9305.000000\n",
       "mean         66.379861      161.644172              9.160559\n",
       "std           3.850525       32.095392              1.871407\n",
       "min          54.263133       64.700127              6.000000\n",
       "25%          63.522005      135.954077              7.000000\n",
       "50%          66.335970      161.647724             10.000000\n",
       "75%          69.194942      187.348518             11.000000\n",
       "max          78.998742      269.989698             12.000000"
      ]
     },
     "execution_count": 4,
     "metadata": {},
     "output_type": "execute_result"
    }
   ],
   "source": [
    "df.describe()"
   ]
  },
  {
   "cell_type": "markdown",
   "id": "df054eaf",
   "metadata": {},
   "source": [
    "## Deal with Null values"
   ]
  },
  {
   "cell_type": "code",
   "execution_count": 5,
   "id": "1af2b98e",
   "metadata": {},
   "outputs": [
    {
     "data": {
      "text/plain": [
       "Person                    0\n",
       "height(in feet)          70\n",
       "weight(in lbs)           84\n",
       "foot size(in inches)    695\n",
       "dtype: int64"
      ]
     },
     "execution_count": 5,
     "metadata": {},
     "output_type": "execute_result"
    }
   ],
   "source": [
    "df.isna().sum()  # is null(); is it null or not"
   ]
  },
  {
   "cell_type": "code",
   "execution_count": null,
   "id": "329893ed",
   "metadata": {},
   "outputs": [],
   "source": []
  },
  {
   "cell_type": "code",
   "execution_count": null,
   "id": "ff1bffd2",
   "metadata": {},
   "outputs": [],
   "source": []
  },
  {
   "cell_type": "code",
   "execution_count": 8,
   "id": "4fbe3125",
   "metadata": {},
   "outputs": [
    {
     "data": {
      "text/html": [
       "<div>\n",
       "<style scoped>\n",
       "    .dataframe tbody tr th:only-of-type {\n",
       "        vertical-align: middle;\n",
       "    }\n",
       "\n",
       "    .dataframe tbody tr th {\n",
       "        vertical-align: top;\n",
       "    }\n",
       "\n",
       "    .dataframe thead th {\n",
       "        text-align: right;\n",
       "    }\n",
       "</style>\n",
       "<table border=\"1\" class=\"dataframe\">\n",
       "  <thead>\n",
       "    <tr style=\"text-align: right;\">\n",
       "      <th></th>\n",
       "      <th>Person</th>\n",
       "      <th>height(in feet)</th>\n",
       "      <th>weight(in lbs)</th>\n",
       "      <th>foot size(in inches)</th>\n",
       "    </tr>\n",
       "  </thead>\n",
       "  <tbody>\n",
       "    <tr>\n",
       "      <th>9995</th>\n",
       "      <td>Female</td>\n",
       "      <td>66.172652</td>\n",
       "      <td>136.777454</td>\n",
       "      <td>7.0</td>\n",
       "    </tr>\n",
       "    <tr>\n",
       "      <th>9996</th>\n",
       "      <td>Female</td>\n",
       "      <td>67.067155</td>\n",
       "      <td>170.867906</td>\n",
       "      <td>9.0</td>\n",
       "    </tr>\n",
       "    <tr>\n",
       "      <th>9997</th>\n",
       "      <td>Female</td>\n",
       "      <td>63.867992</td>\n",
       "      <td>128.475319</td>\n",
       "      <td>8.0</td>\n",
       "    </tr>\n",
       "    <tr>\n",
       "      <th>9998</th>\n",
       "      <td>Female</td>\n",
       "      <td>69.034243</td>\n",
       "      <td>163.852461</td>\n",
       "      <td>7.0</td>\n",
       "    </tr>\n",
       "    <tr>\n",
       "      <th>9999</th>\n",
       "      <td>Female</td>\n",
       "      <td>61.944246</td>\n",
       "      <td>113.649103</td>\n",
       "      <td>9.0</td>\n",
       "    </tr>\n",
       "  </tbody>\n",
       "</table>\n",
       "</div>"
      ],
      "text/plain": [
       "      Person  height(in feet)  weight(in lbs)  foot size(in inches)\n",
       "9995  Female        66.172652      136.777454                   7.0\n",
       "9996  Female        67.067155      170.867906                   9.0\n",
       "9997  Female        63.867992      128.475319                   8.0\n",
       "9998  Female        69.034243      163.852461                   7.0\n",
       "9999  Female        61.944246      113.649103                   9.0"
      ]
     },
     "execution_count": 8,
     "metadata": {},
     "output_type": "execute_result"
    }
   ],
   "source": [
    "df.tail()"
   ]
  },
  {
   "cell_type": "code",
   "execution_count": 9,
   "id": "0b919b5f",
   "metadata": {},
   "outputs": [
    {
     "data": {
      "text/plain": [
       "Person                  0\n",
       "height(in feet)         0\n",
       "weight(in lbs)          0\n",
       "foot size(in inches)    0\n",
       "dtype: int64"
      ]
     },
     "execution_count": 9,
     "metadata": {},
     "output_type": "execute_result"
    }
   ],
   "source": [
    "df.isna().sum()"
   ]
  },
  {
   "cell_type": "markdown",
   "id": "fe6671c3",
   "metadata": {},
   "source": [
    "## Visualization of Existing Dataset"
   ]
  },
  {
   "cell_type": "code",
   "execution_count": 10,
   "id": "4d9d893d",
   "metadata": {},
   "outputs": [
    {
     "data": {
      "text/plain": [
       "<seaborn.axisgrid.PairGrid at 0x97267c0>"
      ]
     },
     "execution_count": 10,
     "metadata": {},
     "output_type": "execute_result"
    },
    {
     "data": {
      "image/png": "[encoded data removed]",
      "text/plain": [
       "<Figure size 540x540 with 12 Axes>"
      ]
     },
     "metadata": {
      "needs_background": "light"
     },
     "output_type": "display_data"
    }
   ],
   "source": [
    "sns.pairplot(df)"
   ]
  },
  {
   "cell_type": "code",
   "execution_count": 11,
   "id": "f54f05f5",
   "metadata": {},
   "outputs": [
    {
     "data": {
      "text/plain": [
       "array([[<AxesSubplot:title={'center':'height(in feet)'}>,\n",
       "        <AxesSubplot:title={'center':'weight(in lbs)'}>],\n",
       "       [<AxesSubplot:title={'center':'foot size(in inches)'}>,\n",
       "        <AxesSubplot:>]], dtype=object)"
      ]
     },
     "execution_count": 11,
     "metadata": {},
     "output_type": "execute_result"
    },
    {
     "data": {
      "image/png": "[encoded data removed]",
      "text/plain": [
       "<Figure size 432x288 with 4 Axes>"
      ]
     },
     "metadata": {
      "needs_background": "light"
     },
     "output_type": "display_data"
    }
   ],
   "source": [
    "h = df[['Person','height(in feet)','weight(in lbs)','foot size(in inches)']]\n",
    "h.hist()"
   ]
  },
  {
   "cell_type": "markdown",
   "id": "b790f10f",
   "metadata": {},
   "source": [
    "## Train - Test - Split"
   ]
  },
  {
   "cell_type": "code",
   "execution_count": 12,
   "id": "9a0b0a70",
   "metadata": {},
   "outputs": [
    {
     "data": {
      "text/plain": [
       "array([[ 66.38      , 241.8935632 ,  10.        ],\n",
       "       [ 68.78190405, 162.3104725 ,  12.        ],\n",
       "       [ 74.11010539, 212.7408556 ,  10.        ],\n",
       "       ...,\n",
       "       [ 63.86799221, 128.4753188 ,   8.        ],\n",
       "       [ 69.03424313, 163.8524613 ,   7.        ],\n",
       "       [ 61.94424588, 113.6491027 ,   9.        ]])"
      ]
     },
     "execution_count": 12,
     "metadata": {},
     "output_type": "execute_result"
    }
   ],
   "source": [
    "X = df.iloc[:, 1:].values\n",
    "X"
   ]
  },
  {
   "cell_type": "code",
   "execution_count": 13,
   "id": "b6511240",
   "metadata": {},
   "outputs": [
    {
     "data": {
      "text/plain": [
       "array(['Male', 'Male', 'Male', ..., 'Female', 'Female', 'Female'],\n",
       "      dtype=object)"
      ]
     },
     "execution_count": 13,
     "metadata": {},
     "output_type": "execute_result"
    }
   ],
   "source": [
    "y = df.iloc[:, 0].values\n",
    "y"
   ]
  },
  {
   "cell_type": "code",
   "execution_count": 14,
   "id": "4e3a325e",
   "metadata": {},
   "outputs": [
    {
     "name": "stdout",
     "output_type": "stream",
     "text": [
      "Train set: (7500, 3) (7500,)\n",
      "Test set: (2500, 3) (2500,)\n"
     ]
    }
   ],
   "source": [
    "X_train, X_test, y_train, y_test = train_test_split( X, y, test_size = 0.25, random_state = 4)\n",
    "print ('Train set:', X_train.shape,  y_train.shape)\n",
    "print ('Test set:', X_test.shape,  y_test.shape)"
   ]
  },
  {
   "cell_type": "code",
   "execution_count": 15,
   "id": "05ce90ca",
   "metadata": {},
   "outputs": [],
   "source": [
    "sc = StandardScaler()\n",
    "X_train = sc.fit_transform(X_train)\n",
    "X_test = sc.transform(X_test)"
   ]
  },
  {
   "cell_type": "markdown",
   "id": "334f59ad",
   "metadata": {},
   "source": [
    "## Implemented Algorithms for Prediction"
   ]
  },
  {
   "cell_type": "markdown",
   "id": "61174e63",
   "metadata": {},
   "source": [
    "### Logistic Regression"
   ]
  },
  {
   "cell_type": "code",
   "execution_count": 16,
   "id": "4c6e6f93",
   "metadata": {},
   "outputs": [
    {
     "name": "stdout",
     "output_type": "stream",
     "text": [
      "Logistic Regression Accuracy:  99.24\n"
     ]
    }
   ],
   "source": [
    "logreg = LogisticRegression()\n",
    "logreg.fit(X_train, y_train)\n",
    "Y_pred_lr = logreg.predict(X_test)\n",
    "acc_log = round(logreg.score(X_test,y_test) * 100, 2)\n",
    "print(\"Logistic Regression Accuracy: \", acc_log)"
   ]
  },
  {
   "cell_type": "code",
   "execution_count": 17,
   "id": "513f922d",
   "metadata": {},
   "outputs": [
    {
     "name": "stdout",
     "output_type": "stream",
     "text": [
      "Classificiation Report: \n",
      "               precision    recall  f1-score   support\n",
      "\n",
      "      Female       0.99      0.99      0.99      1263\n",
      "        Male       0.99      0.99      0.99      1237\n",
      "\n",
      "    accuracy                           0.99      2500\n",
      "   macro avg       0.99      0.99      0.99      2500\n",
      "weighted avg       0.99      0.99      0.99      2500\n",
      "\n"
     ]
    }
   ],
   "source": [
    "class_report = classification_report(y_test, Y_pred_lr)\n",
    "print(\"Classificiation Report: \\n\", class_report)"
   ]
  },
  {
   "cell_type": "code",
   "execution_count": 18,
   "id": "0521f13f",
   "metadata": {},
   "outputs": [
    {
     "data": {
      "text/plain": [
       "<AxesSubplot:title={'center':'Confusion Matrix'}, xlabel='Predicted label', ylabel='True label'>"
      ]
     },
     "execution_count": 18,
     "metadata": {},
     "output_type": "execute_result"
    },
    {
     "data": {
      "image/png": "[encoded data removed]",
      "text/plain": [
       "<Figure size 576x576 with 2 Axes>"
      ]
     },
     "metadata": {
      "needs_background": "light"
     },
     "output_type": "display_data"
    }
   ],
   "source": [
    "skplt.metrics.plot_confusion_matrix(y_test, Y_pred_lr, cmap=\"binary\", figsize=(8,8))"
   ]
  },
  {
   "cell_type": "code",
   "execution_count": 19,
   "id": "018526bb",
   "metadata": {},
   "outputs": [
    {
     "name": "stdout",
     "output_type": "stream",
     "text": [
      "Jaccard Score:  98.47\n"
     ]
    }
   ],
   "source": [
    "jac_score_logreg = round(jaccard_score(y_test, Y_pred_lr, pos_label='Male') * 100, 2)\n",
    "print(\"Jaccard Score: \", jac_score_logreg)"
   ]
  },
  {
   "cell_type": "markdown",
   "id": "adb02c51",
   "metadata": {},
   "source": [
    "### KNN Classification"
   ]
  },
  {
   "cell_type": "code",
   "execution_count": 20,
   "id": "e0fab0de",
   "metadata": {},
   "outputs": [
    {
     "name": "stdout",
     "output_type": "stream",
     "text": [
      "K - Nearest Neighbours Accuracy:  99.12\n"
     ]
    }
   ],
   "source": [
    "knn = KNeighborsClassifier(n_neighbors = 3)\n",
    "knn.fit(X_train, y_train)\n",
    "Y_pred_knn = knn.predict(X_test)\n",
    "acc_knn = round(knn.score(X_test,y_test) * 100, 2)\n",
    "print(\"K - Nearest Neighbours Accuracy: \", acc_knn)"
   ]
  },
  {
   "cell_type": "markdown",
   "id": "d186a5c1",
   "metadata": {},
   "source": [
    "from sklearn import metrics\n",
    "Ks = 10\n",
    "mean_acc = np.zeros((Ks-1))\n",
    "std_acc = np.zeros((Ks-1))\n",
    "\n",
    "for n in range(1,Ks):\n",
    "    \n",
    "    #Train Model and Predict  \n",
    "    neigh = KNeighborsClassifier(n_neighbors = n).fit(X_train,y_train)\n",
    "    yhat = neigh.predict(X_test)\n",
    "    mean_acc[n-1] = metrics.accuracy_score(y_test, yhat)\n",
    "\n",
    "    \n",
    "    std_acc[n-1]=np.std(yhat==y_test)/np.sqrt(yhat.shape[0])\n",
    "\n",
    "print('Maximum Values for Different Ks Value:\\n', mean_acc)\n",
    "print(max(mean_acc))"
   ]
  },
  {
   "cell_type": "code",
   "execution_count": 21,
   "id": "98eeaf40",
   "metadata": {},
   "outputs": [
    {
     "name": "stdout",
     "output_type": "stream",
     "text": [
      "Classificiation Report: \n",
      "               precision    recall  f1-score   support\n",
      "\n",
      "      Female       0.99      0.99      0.99      1263\n",
      "        Male       0.99      0.99      0.99      1237\n",
      "\n",
      "    accuracy                           0.99      2500\n",
      "   macro avg       0.99      0.99      0.99      2500\n",
      "weighted avg       0.99      0.99      0.99      2500\n",
      "\n"
     ]
    }
   ],
   "source": [
    "class_report = classification_report(y_test, Y_pred_knn)\n",
    "print(\"Classificiation Report: \\n\", class_report)"
   ]
  },
  {
   "cell_type": "code",
   "execution_count": 22,
   "id": "b4928a63",
   "metadata": {},
   "outputs": [
    {
     "data": {
      "text/plain": [
       "<AxesSubplot:title={'center':'Confusion Matrix'}, xlabel='Predicted label', ylabel='True label'>"
      ]
     },
     "execution_count": 22,
     "metadata": {},
     "output_type": "execute_result"
    },
    {
     "data": {
      "image/png": "[encoded data removed]",
      "text/plain": [
       "<Figure size 576x576 with 2 Axes>"
      ]
     },
     "metadata": {
      "needs_background": "light"
     },
     "output_type": "display_data"
    }
   ],
   "source": [
    "skplt.metrics.plot_confusion_matrix(y_test, Y_pred_knn, figsize=(8,8))"
   ]
  },
  {
   "cell_type": "code",
   "execution_count": 23,
   "id": "18e297d2",
   "metadata": {},
   "outputs": [
    {
     "name": "stdout",
     "output_type": "stream",
     "text": [
      "Jaccard Score:  98.24\n"
     ]
    }
   ],
   "source": [
    "jac_score_knn = round(jaccard_score(y_test, Y_pred_knn, pos_label='Male') * 100, 2)\n",
    "print(\"Jaccard Score: \", jac_score_knn)"
   ]
  },
  {
   "cell_type": "markdown",
   "id": "08c1b689",
   "metadata": {},
   "source": [
    "### Overall Output"
   ]
  },
  {
   "cell_type": "code",
   "execution_count": 24,
   "id": "1f5adcb5",
   "metadata": {},
   "outputs": [
    {
     "data": {
      "text/html": [
       "<div>\n",
       "<style scoped>\n",
       "    .dataframe tbody tr th:only-of-type {\n",
       "        vertical-align: middle;\n",
       "    }\n",
       "\n",
       "    .dataframe tbody tr th {\n",
       "        vertical-align: top;\n",
       "    }\n",
       "\n",
       "    .dataframe thead th {\n",
       "        text-align: right;\n",
       "    }\n",
       "</style>\n",
       "<table border=\"1\" class=\"dataframe\">\n",
       "  <thead>\n",
       "    <tr style=\"text-align: right;\">\n",
       "      <th></th>\n",
       "      <th>Algorithm Name</th>\n",
       "      <th>Accuracy Score (%)</th>\n",
       "      <th>Misclassification (%)</th>\n",
       "      <th>Jaccard Score (%)</th>\n",
       "    </tr>\n",
       "  </thead>\n",
       "  <tbody>\n",
       "    <tr>\n",
       "      <th>0</th>\n",
       "      <td>Logistic Regression</td>\n",
       "      <td>99.24</td>\n",
       "      <td>0.76</td>\n",
       "      <td>98.47</td>\n",
       "    </tr>\n",
       "    <tr>\n",
       "      <th>1</th>\n",
       "      <td>KNN</td>\n",
       "      <td>99.12</td>\n",
       "      <td>0.88</td>\n",
       "      <td>98.24</td>\n",
       "    </tr>\n",
       "  </tbody>\n",
       "</table>\n",
       "</div>"
      ],
      "text/plain": [
       "        Algorithm Name  Accuracy Score (%)  Misclassification (%)  \\\n",
       "0  Logistic Regression               99.24                   0.76   \n",
       "1                  KNN               99.12                   0.88   \n",
       "\n",
       "   Jaccard Score (%)  \n",
       "0              98.47  \n",
       "1              98.24  "
      ]
     },
     "execution_count": 24,
     "metadata": {},
     "output_type": "execute_result"
    }
   ],
   "source": [
    "models = pd.DataFrame({\n",
    "    'Algorithm Name': ['Logistic Regression', 'KNN'],\n",
    "    'Accuracy Score (%)': [acc_log, acc_knn],\n",
    "    'Misclassification (%)': [(abs(acc_log-100)), (abs(acc_knn-100))],\n",
    "    'Jaccard Score (%)' : [jac_score_logreg, jac_score_knn]\n",
    "})\n",
    "models.sort_values(by = 'Accuracy Score (%)', ascending = False)"
   ]
  }
 ],
 "metadata": {
  "kernelspec": {
   "display_name": "Python 3",
   "language": "python",
   "name": "python3"
  },
  "language_info": {
   "codemirror_mode": {
    "name": "ipython",
    "version": 3
   },
   "file_extension": ".py",
   "mimetype": "text/x-python",
   "name": "python",
   "nbconvert_exporter": "python",
   "pygments_lexer": "ipython3",
   "version": "3.8.8"
  }
 },
 "nbformat": 4,
 "nbformat_minor": 5
}
